{
 "cells": [
  {
   "cell_type": "markdown",
   "id": "cf3a55c5",
   "metadata": {},
   "source": [
    "# FEATURE ENGINEERING(SCALING) "
   ]
  },
  {
   "cell_type": "markdown",
   "id": "5599ef24",
   "metadata": {},
   "source": [
    "- StandardScaler\n",
    "- MinMaxScaler\n",
    "- MaxAbsScaler\n",
    "- RobustScaler"
   ]
  },
  {
   "cell_type": "code",
   "execution_count": 77,
   "id": "fbb51145",
   "metadata": {},
   "outputs": [],
   "source": [
    "## importing required libraries\n",
    "import numpy as np\n",
    "import pandas as pd\n",
    "import seaborn as sns\n",
    "from sklearn.datasets import load_boston\n",
    "from sklearn.model_selection import train_test_split\n",
    "import matplotlib.pyplot as plt\n",
    "%matplotlib inline"
   ]
  },
  {
   "cell_type": "code",
   "execution_count": 2,
   "id": "e8dead81",
   "metadata": {},
   "outputs": [],
   "source": [
    "boston_data = load_boston()"
   ]
  },
  {
   "cell_type": "code",
   "execution_count": 6,
   "id": "c4b5aa93",
   "metadata": {},
   "outputs": [],
   "source": [
    "## creating Dataset from load_boston\n",
    "df = pd.DataFrame(boston_data.data,columns=boston_data.feature_names)"
   ]
  },
  {
   "cell_type": "code",
   "execution_count": 14,
   "id": "54faa1a9",
   "metadata": {},
   "outputs": [],
   "source": [
    "# creating medv feature using load_boston.target\n",
    "df[' medv'] = boston_data.target"
   ]
  },
  {
   "cell_type": "code",
   "execution_count": 15,
   "id": "f9cbc626",
   "metadata": {},
   "outputs": [
    {
     "data": {
      "text/html": [
       "<div>\n",
       "<style scoped>\n",
       "    .dataframe tbody tr th:only-of-type {\n",
       "        vertical-align: middle;\n",
       "    }\n",
       "\n",
       "    .dataframe tbody tr th {\n",
       "        vertical-align: top;\n",
       "    }\n",
       "\n",
       "    .dataframe thead th {\n",
       "        text-align: right;\n",
       "    }\n",
       "</style>\n",
       "<table border=\"1\" class=\"dataframe\">\n",
       "  <thead>\n",
       "    <tr style=\"text-align: right;\">\n",
       "      <th></th>\n",
       "      <th>CRIM</th>\n",
       "      <th>ZN</th>\n",
       "      <th>INDUS</th>\n",
       "      <th>CHAS</th>\n",
       "      <th>NOX</th>\n",
       "      <th>RM</th>\n",
       "      <th>AGE</th>\n",
       "      <th>DIS</th>\n",
       "      <th>RAD</th>\n",
       "      <th>TAX</th>\n",
       "      <th>PTRATIO</th>\n",
       "      <th>B</th>\n",
       "      <th>LSTAT</th>\n",
       "      <th>medv</th>\n",
       "    </tr>\n",
       "  </thead>\n",
       "  <tbody>\n",
       "    <tr>\n",
       "      <th>0</th>\n",
       "      <td>0.00632</td>\n",
       "      <td>18.0</td>\n",
       "      <td>2.31</td>\n",
       "      <td>0.0</td>\n",
       "      <td>0.538</td>\n",
       "      <td>6.575</td>\n",
       "      <td>65.2</td>\n",
       "      <td>4.0900</td>\n",
       "      <td>1.0</td>\n",
       "      <td>296.0</td>\n",
       "      <td>15.3</td>\n",
       "      <td>396.90</td>\n",
       "      <td>4.98</td>\n",
       "      <td>24.0</td>\n",
       "    </tr>\n",
       "    <tr>\n",
       "      <th>1</th>\n",
       "      <td>0.02731</td>\n",
       "      <td>0.0</td>\n",
       "      <td>7.07</td>\n",
       "      <td>0.0</td>\n",
       "      <td>0.469</td>\n",
       "      <td>6.421</td>\n",
       "      <td>78.9</td>\n",
       "      <td>4.9671</td>\n",
       "      <td>2.0</td>\n",
       "      <td>242.0</td>\n",
       "      <td>17.8</td>\n",
       "      <td>396.90</td>\n",
       "      <td>9.14</td>\n",
       "      <td>21.6</td>\n",
       "    </tr>\n",
       "    <tr>\n",
       "      <th>2</th>\n",
       "      <td>0.02729</td>\n",
       "      <td>0.0</td>\n",
       "      <td>7.07</td>\n",
       "      <td>0.0</td>\n",
       "      <td>0.469</td>\n",
       "      <td>7.185</td>\n",
       "      <td>61.1</td>\n",
       "      <td>4.9671</td>\n",
       "      <td>2.0</td>\n",
       "      <td>242.0</td>\n",
       "      <td>17.8</td>\n",
       "      <td>392.83</td>\n",
       "      <td>4.03</td>\n",
       "      <td>34.7</td>\n",
       "    </tr>\n",
       "    <tr>\n",
       "      <th>3</th>\n",
       "      <td>0.03237</td>\n",
       "      <td>0.0</td>\n",
       "      <td>2.18</td>\n",
       "      <td>0.0</td>\n",
       "      <td>0.458</td>\n",
       "      <td>6.998</td>\n",
       "      <td>45.8</td>\n",
       "      <td>6.0622</td>\n",
       "      <td>3.0</td>\n",
       "      <td>222.0</td>\n",
       "      <td>18.7</td>\n",
       "      <td>394.63</td>\n",
       "      <td>2.94</td>\n",
       "      <td>33.4</td>\n",
       "    </tr>\n",
       "    <tr>\n",
       "      <th>4</th>\n",
       "      <td>0.06905</td>\n",
       "      <td>0.0</td>\n",
       "      <td>2.18</td>\n",
       "      <td>0.0</td>\n",
       "      <td>0.458</td>\n",
       "      <td>7.147</td>\n",
       "      <td>54.2</td>\n",
       "      <td>6.0622</td>\n",
       "      <td>3.0</td>\n",
       "      <td>222.0</td>\n",
       "      <td>18.7</td>\n",
       "      <td>396.90</td>\n",
       "      <td>5.33</td>\n",
       "      <td>36.2</td>\n",
       "    </tr>\n",
       "  </tbody>\n",
       "</table>\n",
       "</div>"
      ],
      "text/plain": [
       "      CRIM    ZN  INDUS  CHAS    NOX     RM   AGE     DIS  RAD    TAX  \\\n",
       "0  0.00632  18.0   2.31   0.0  0.538  6.575  65.2  4.0900  1.0  296.0   \n",
       "1  0.02731   0.0   7.07   0.0  0.469  6.421  78.9  4.9671  2.0  242.0   \n",
       "2  0.02729   0.0   7.07   0.0  0.469  7.185  61.1  4.9671  2.0  242.0   \n",
       "3  0.03237   0.0   2.18   0.0  0.458  6.998  45.8  6.0622  3.0  222.0   \n",
       "4  0.06905   0.0   2.18   0.0  0.458  7.147  54.2  6.0622  3.0  222.0   \n",
       "\n",
       "   PTRATIO       B  LSTAT   medv  \n",
       "0     15.3  396.90   4.98   24.0  \n",
       "1     17.8  396.90   9.14   21.6  \n",
       "2     17.8  392.83   4.03   34.7  \n",
       "3     18.7  394.63   2.94   33.4  \n",
       "4     18.7  396.90   5.33   36.2  "
      ]
     },
     "execution_count": 15,
     "metadata": {},
     "output_type": "execute_result"
    }
   ],
   "source": [
    "df.head()"
   ]
  },
  {
   "cell_type": "code",
   "execution_count": 16,
   "id": "01f07776",
   "metadata": {},
   "outputs": [
    {
     "data": {
      "text/plain": [
       "CRIM       float64\n",
       "ZN         float64\n",
       "INDUS      float64\n",
       "CHAS       float64\n",
       "NOX        float64\n",
       "RM         float64\n",
       "AGE        float64\n",
       "DIS        float64\n",
       "RAD        float64\n",
       "TAX        float64\n",
       "PTRATIO    float64\n",
       "B          float64\n",
       "LSTAT      float64\n",
       " medv      float64\n",
       "dtype: object"
      ]
     },
     "execution_count": 16,
     "metadata": {},
     "output_type": "execute_result"
    }
   ],
   "source": [
    "## cheacking datatypes of the each and every column\n",
    "df.dtypes"
   ]
  },
  {
   "cell_type": "code",
   "execution_count": 17,
   "id": "4e81dd37",
   "metadata": {},
   "outputs": [
    {
     "data": {
      "text/html": [
       "<div>\n",
       "<style scoped>\n",
       "    .dataframe tbody tr th:only-of-type {\n",
       "        vertical-align: middle;\n",
       "    }\n",
       "\n",
       "    .dataframe tbody tr th {\n",
       "        vertical-align: top;\n",
       "    }\n",
       "\n",
       "    .dataframe thead th {\n",
       "        text-align: right;\n",
       "    }\n",
       "</style>\n",
       "<table border=\"1\" class=\"dataframe\">\n",
       "  <thead>\n",
       "    <tr style=\"text-align: right;\">\n",
       "      <th></th>\n",
       "      <th>count</th>\n",
       "      <th>mean</th>\n",
       "      <th>std</th>\n",
       "      <th>min</th>\n",
       "      <th>25%</th>\n",
       "      <th>50%</th>\n",
       "      <th>75%</th>\n",
       "      <th>max</th>\n",
       "    </tr>\n",
       "  </thead>\n",
       "  <tbody>\n",
       "    <tr>\n",
       "      <th>CRIM</th>\n",
       "      <td>506.0</td>\n",
       "      <td>3.613524</td>\n",
       "      <td>8.601545</td>\n",
       "      <td>0.00632</td>\n",
       "      <td>0.082045</td>\n",
       "      <td>0.25651</td>\n",
       "      <td>3.677083</td>\n",
       "      <td>88.9762</td>\n",
       "    </tr>\n",
       "    <tr>\n",
       "      <th>ZN</th>\n",
       "      <td>506.0</td>\n",
       "      <td>11.363636</td>\n",
       "      <td>23.322453</td>\n",
       "      <td>0.00000</td>\n",
       "      <td>0.000000</td>\n",
       "      <td>0.00000</td>\n",
       "      <td>12.500000</td>\n",
       "      <td>100.0000</td>\n",
       "    </tr>\n",
       "    <tr>\n",
       "      <th>INDUS</th>\n",
       "      <td>506.0</td>\n",
       "      <td>11.136779</td>\n",
       "      <td>6.860353</td>\n",
       "      <td>0.46000</td>\n",
       "      <td>5.190000</td>\n",
       "      <td>9.69000</td>\n",
       "      <td>18.100000</td>\n",
       "      <td>27.7400</td>\n",
       "    </tr>\n",
       "    <tr>\n",
       "      <th>CHAS</th>\n",
       "      <td>506.0</td>\n",
       "      <td>0.069170</td>\n",
       "      <td>0.253994</td>\n",
       "      <td>0.00000</td>\n",
       "      <td>0.000000</td>\n",
       "      <td>0.00000</td>\n",
       "      <td>0.000000</td>\n",
       "      <td>1.0000</td>\n",
       "    </tr>\n",
       "    <tr>\n",
       "      <th>NOX</th>\n",
       "      <td>506.0</td>\n",
       "      <td>0.554695</td>\n",
       "      <td>0.115878</td>\n",
       "      <td>0.38500</td>\n",
       "      <td>0.449000</td>\n",
       "      <td>0.53800</td>\n",
       "      <td>0.624000</td>\n",
       "      <td>0.8710</td>\n",
       "    </tr>\n",
       "    <tr>\n",
       "      <th>RM</th>\n",
       "      <td>506.0</td>\n",
       "      <td>6.284634</td>\n",
       "      <td>0.702617</td>\n",
       "      <td>3.56100</td>\n",
       "      <td>5.885500</td>\n",
       "      <td>6.20850</td>\n",
       "      <td>6.623500</td>\n",
       "      <td>8.7800</td>\n",
       "    </tr>\n",
       "    <tr>\n",
       "      <th>AGE</th>\n",
       "      <td>506.0</td>\n",
       "      <td>68.574901</td>\n",
       "      <td>28.148861</td>\n",
       "      <td>2.90000</td>\n",
       "      <td>45.025000</td>\n",
       "      <td>77.50000</td>\n",
       "      <td>94.075000</td>\n",
       "      <td>100.0000</td>\n",
       "    </tr>\n",
       "    <tr>\n",
       "      <th>DIS</th>\n",
       "      <td>506.0</td>\n",
       "      <td>3.795043</td>\n",
       "      <td>2.105710</td>\n",
       "      <td>1.12960</td>\n",
       "      <td>2.100175</td>\n",
       "      <td>3.20745</td>\n",
       "      <td>5.188425</td>\n",
       "      <td>12.1265</td>\n",
       "    </tr>\n",
       "    <tr>\n",
       "      <th>RAD</th>\n",
       "      <td>506.0</td>\n",
       "      <td>9.549407</td>\n",
       "      <td>8.707259</td>\n",
       "      <td>1.00000</td>\n",
       "      <td>4.000000</td>\n",
       "      <td>5.00000</td>\n",
       "      <td>24.000000</td>\n",
       "      <td>24.0000</td>\n",
       "    </tr>\n",
       "    <tr>\n",
       "      <th>TAX</th>\n",
       "      <td>506.0</td>\n",
       "      <td>408.237154</td>\n",
       "      <td>168.537116</td>\n",
       "      <td>187.00000</td>\n",
       "      <td>279.000000</td>\n",
       "      <td>330.00000</td>\n",
       "      <td>666.000000</td>\n",
       "      <td>711.0000</td>\n",
       "    </tr>\n",
       "    <tr>\n",
       "      <th>PTRATIO</th>\n",
       "      <td>506.0</td>\n",
       "      <td>18.455534</td>\n",
       "      <td>2.164946</td>\n",
       "      <td>12.60000</td>\n",
       "      <td>17.400000</td>\n",
       "      <td>19.05000</td>\n",
       "      <td>20.200000</td>\n",
       "      <td>22.0000</td>\n",
       "    </tr>\n",
       "    <tr>\n",
       "      <th>B</th>\n",
       "      <td>506.0</td>\n",
       "      <td>356.674032</td>\n",
       "      <td>91.294864</td>\n",
       "      <td>0.32000</td>\n",
       "      <td>375.377500</td>\n",
       "      <td>391.44000</td>\n",
       "      <td>396.225000</td>\n",
       "      <td>396.9000</td>\n",
       "    </tr>\n",
       "    <tr>\n",
       "      <th>LSTAT</th>\n",
       "      <td>506.0</td>\n",
       "      <td>12.653063</td>\n",
       "      <td>7.141062</td>\n",
       "      <td>1.73000</td>\n",
       "      <td>6.950000</td>\n",
       "      <td>11.36000</td>\n",
       "      <td>16.955000</td>\n",
       "      <td>37.9700</td>\n",
       "    </tr>\n",
       "    <tr>\n",
       "      <th>medv</th>\n",
       "      <td>506.0</td>\n",
       "      <td>22.532806</td>\n",
       "      <td>9.197104</td>\n",
       "      <td>5.00000</td>\n",
       "      <td>17.025000</td>\n",
       "      <td>21.20000</td>\n",
       "      <td>25.000000</td>\n",
       "      <td>50.0000</td>\n",
       "    </tr>\n",
       "  </tbody>\n",
       "</table>\n",
       "</div>"
      ],
      "text/plain": [
       "         count        mean         std        min         25%        50%  \\\n",
       "CRIM     506.0    3.613524    8.601545    0.00632    0.082045    0.25651   \n",
       "ZN       506.0   11.363636   23.322453    0.00000    0.000000    0.00000   \n",
       "INDUS    506.0   11.136779    6.860353    0.46000    5.190000    9.69000   \n",
       "CHAS     506.0    0.069170    0.253994    0.00000    0.000000    0.00000   \n",
       "NOX      506.0    0.554695    0.115878    0.38500    0.449000    0.53800   \n",
       "RM       506.0    6.284634    0.702617    3.56100    5.885500    6.20850   \n",
       "AGE      506.0   68.574901   28.148861    2.90000   45.025000   77.50000   \n",
       "DIS      506.0    3.795043    2.105710    1.12960    2.100175    3.20745   \n",
       "RAD      506.0    9.549407    8.707259    1.00000    4.000000    5.00000   \n",
       "TAX      506.0  408.237154  168.537116  187.00000  279.000000  330.00000   \n",
       "PTRATIO  506.0   18.455534    2.164946   12.60000   17.400000   19.05000   \n",
       "B        506.0  356.674032   91.294864    0.32000  375.377500  391.44000   \n",
       "LSTAT    506.0   12.653063    7.141062    1.73000    6.950000   11.36000   \n",
       " medv    506.0   22.532806    9.197104    5.00000   17.025000   21.20000   \n",
       "\n",
       "                75%       max  \n",
       "CRIM       3.677083   88.9762  \n",
       "ZN        12.500000  100.0000  \n",
       "INDUS     18.100000   27.7400  \n",
       "CHAS       0.000000    1.0000  \n",
       "NOX        0.624000    0.8710  \n",
       "RM         6.623500    8.7800  \n",
       "AGE       94.075000  100.0000  \n",
       "DIS        5.188425   12.1265  \n",
       "RAD       24.000000   24.0000  \n",
       "TAX      666.000000  711.0000  \n",
       "PTRATIO   20.200000   22.0000  \n",
       "B        396.225000  396.9000  \n",
       "LSTAT     16.955000   37.9700  \n",
       " medv     25.000000   50.0000  "
      ]
     },
     "execution_count": 17,
     "metadata": {},
     "output_type": "execute_result"
    }
   ],
   "source": [
    "## description of the data\n",
    "df.describe().T"
   ]
  },
  {
   "cell_type": "markdown",
   "id": "76cac24d",
   "metadata": {},
   "source": [
    "- independent features and dependent features"
   ]
  },
  {
   "cell_type": "code",
   "execution_count": 18,
   "id": "51cba263",
   "metadata": {},
   "outputs": [],
   "source": [
    "## seperating Independent columns\n",
    "X = df.iloc[:,:-1]"
   ]
  },
  {
   "cell_type": "code",
   "execution_count": 20,
   "id": "16719093",
   "metadata": {},
   "outputs": [
    {
     "data": {
      "text/html": [
       "<div>\n",
       "<style scoped>\n",
       "    .dataframe tbody tr th:only-of-type {\n",
       "        vertical-align: middle;\n",
       "    }\n",
       "\n",
       "    .dataframe tbody tr th {\n",
       "        vertical-align: top;\n",
       "    }\n",
       "\n",
       "    .dataframe thead th {\n",
       "        text-align: right;\n",
       "    }\n",
       "</style>\n",
       "<table border=\"1\" class=\"dataframe\">\n",
       "  <thead>\n",
       "    <tr style=\"text-align: right;\">\n",
       "      <th></th>\n",
       "      <th>CRIM</th>\n",
       "      <th>ZN</th>\n",
       "      <th>INDUS</th>\n",
       "      <th>CHAS</th>\n",
       "      <th>NOX</th>\n",
       "      <th>RM</th>\n",
       "      <th>AGE</th>\n",
       "      <th>DIS</th>\n",
       "      <th>RAD</th>\n",
       "      <th>TAX</th>\n",
       "      <th>PTRATIO</th>\n",
       "      <th>B</th>\n",
       "      <th>LSTAT</th>\n",
       "    </tr>\n",
       "  </thead>\n",
       "  <tbody>\n",
       "    <tr>\n",
       "      <th>0</th>\n",
       "      <td>0.00632</td>\n",
       "      <td>18.0</td>\n",
       "      <td>2.31</td>\n",
       "      <td>0.0</td>\n",
       "      <td>0.538</td>\n",
       "      <td>6.575</td>\n",
       "      <td>65.2</td>\n",
       "      <td>4.0900</td>\n",
       "      <td>1.0</td>\n",
       "      <td>296.0</td>\n",
       "      <td>15.3</td>\n",
       "      <td>396.90</td>\n",
       "      <td>4.98</td>\n",
       "    </tr>\n",
       "    <tr>\n",
       "      <th>1</th>\n",
       "      <td>0.02731</td>\n",
       "      <td>0.0</td>\n",
       "      <td>7.07</td>\n",
       "      <td>0.0</td>\n",
       "      <td>0.469</td>\n",
       "      <td>6.421</td>\n",
       "      <td>78.9</td>\n",
       "      <td>4.9671</td>\n",
       "      <td>2.0</td>\n",
       "      <td>242.0</td>\n",
       "      <td>17.8</td>\n",
       "      <td>396.90</td>\n",
       "      <td>9.14</td>\n",
       "    </tr>\n",
       "    <tr>\n",
       "      <th>2</th>\n",
       "      <td>0.02729</td>\n",
       "      <td>0.0</td>\n",
       "      <td>7.07</td>\n",
       "      <td>0.0</td>\n",
       "      <td>0.469</td>\n",
       "      <td>7.185</td>\n",
       "      <td>61.1</td>\n",
       "      <td>4.9671</td>\n",
       "      <td>2.0</td>\n",
       "      <td>242.0</td>\n",
       "      <td>17.8</td>\n",
       "      <td>392.83</td>\n",
       "      <td>4.03</td>\n",
       "    </tr>\n",
       "    <tr>\n",
       "      <th>3</th>\n",
       "      <td>0.03237</td>\n",
       "      <td>0.0</td>\n",
       "      <td>2.18</td>\n",
       "      <td>0.0</td>\n",
       "      <td>0.458</td>\n",
       "      <td>6.998</td>\n",
       "      <td>45.8</td>\n",
       "      <td>6.0622</td>\n",
       "      <td>3.0</td>\n",
       "      <td>222.0</td>\n",
       "      <td>18.7</td>\n",
       "      <td>394.63</td>\n",
       "      <td>2.94</td>\n",
       "    </tr>\n",
       "    <tr>\n",
       "      <th>4</th>\n",
       "      <td>0.06905</td>\n",
       "      <td>0.0</td>\n",
       "      <td>2.18</td>\n",
       "      <td>0.0</td>\n",
       "      <td>0.458</td>\n",
       "      <td>7.147</td>\n",
       "      <td>54.2</td>\n",
       "      <td>6.0622</td>\n",
       "      <td>3.0</td>\n",
       "      <td>222.0</td>\n",
       "      <td>18.7</td>\n",
       "      <td>396.90</td>\n",
       "      <td>5.33</td>\n",
       "    </tr>\n",
       "  </tbody>\n",
       "</table>\n",
       "</div>"
      ],
      "text/plain": [
       "      CRIM    ZN  INDUS  CHAS    NOX     RM   AGE     DIS  RAD    TAX  \\\n",
       "0  0.00632  18.0   2.31   0.0  0.538  6.575  65.2  4.0900  1.0  296.0   \n",
       "1  0.02731   0.0   7.07   0.0  0.469  6.421  78.9  4.9671  2.0  242.0   \n",
       "2  0.02729   0.0   7.07   0.0  0.469  7.185  61.1  4.9671  2.0  242.0   \n",
       "3  0.03237   0.0   2.18   0.0  0.458  6.998  45.8  6.0622  3.0  222.0   \n",
       "4  0.06905   0.0   2.18   0.0  0.458  7.147  54.2  6.0622  3.0  222.0   \n",
       "\n",
       "   PTRATIO       B  LSTAT  \n",
       "0     15.3  396.90   4.98  \n",
       "1     17.8  396.90   9.14  \n",
       "2     17.8  392.83   4.03  \n",
       "3     18.7  394.63   2.94  \n",
       "4     18.7  396.90   5.33  "
      ]
     },
     "execution_count": 20,
     "metadata": {},
     "output_type": "execute_result"
    }
   ],
   "source": [
    "X.head()"
   ]
  },
  {
   "cell_type": "code",
   "execution_count": 21,
   "id": "016d0c81",
   "metadata": {},
   "outputs": [],
   "source": [
    "## seperating target column\n",
    "y = df.iloc[:,-1]"
   ]
  },
  {
   "cell_type": "code",
   "execution_count": 22,
   "id": "ba37145e",
   "metadata": {},
   "outputs": [
    {
     "data": {
      "text/plain": [
       "0      24.0\n",
       "1      21.6\n",
       "2      34.7\n",
       "3      33.4\n",
       "4      36.2\n",
       "       ... \n",
       "501    22.4\n",
       "502    20.6\n",
       "503    23.9\n",
       "504    22.0\n",
       "505    11.9\n",
       "Name:  medv, Length: 506, dtype: float64"
      ]
     },
     "execution_count": 22,
     "metadata": {},
     "output_type": "execute_result"
    }
   ],
   "source": [
    "y"
   ]
  },
  {
   "cell_type": "code",
   "execution_count": 45,
   "id": "ea0543a3",
   "metadata": {},
   "outputs": [],
   "source": [
    "## splittign the data\n",
    "X_train,X_test,y_train,y_test = train_test_split(X,y,test_size=0.3,random_state=42)"
   ]
  },
  {
   "cell_type": "code",
   "execution_count": 25,
   "id": "f7658979",
   "metadata": {},
   "outputs": [],
   "source": [
    "## importing StandardScaler\n",
    "from sklearn.preprocessing import StandardScaler"
   ]
  },
  {
   "cell_type": "code",
   "execution_count": 26,
   "id": "f017d888",
   "metadata": {},
   "outputs": [],
   "source": [
    "## creating Object for StandardScaler model\n",
    "scaler = StandardScaler()"
   ]
  },
  {
   "cell_type": "code",
   "execution_count": 27,
   "id": "4c0c2b67",
   "metadata": {},
   "outputs": [
    {
     "data": {
      "text/plain": [
       "StandardScaler()"
      ]
     },
     "execution_count": 27,
     "metadata": {},
     "output_type": "execute_result"
    }
   ],
   "source": [
    "#fitting the data\n",
    "scaler.fit(X_train)"
   ]
  },
  {
   "cell_type": "code",
   "execution_count": 28,
   "id": "8e7f4da8",
   "metadata": {},
   "outputs": [],
   "source": [
    "# transforming the data \n",
    "X_train_tf = scaler.transform(X_train)"
   ]
  },
  {
   "cell_type": "code",
   "execution_count": 29,
   "id": "f77db361",
   "metadata": {},
   "outputs": [],
   "source": [
    "X_test_tf = scaler.transform(X_test)"
   ]
  },
  {
   "cell_type": "code",
   "execution_count": 32,
   "id": "044a21cc",
   "metadata": {},
   "outputs": [
    {
     "data": {
      "text/plain": [
       "array([[-0.41425879, -0.50512499, -1.29214218, -0.28154625, -0.85108479,\n",
       "         0.14526384, -0.365584  ,  1.08162833, -0.74617905, -1.11279004,\n",
       "         0.18727079,  0.39651419, -1.01531611],\n",
       "       [-0.40200818, -0.50512499, -0.16208345, -0.28154625, -0.08796708,\n",
       "        -0.20840082,  0.13394078, -0.48787608, -0.39846419,  0.15008778,\n",
       "        -0.21208981,  0.3870674 , -0.05366252]])"
      ]
     },
     "execution_count": 32,
     "metadata": {},
     "output_type": "execute_result"
    }
   ],
   "source": [
    "X_train_tf[:2]"
   ]
  },
  {
   "cell_type": "code",
   "execution_count": 35,
   "id": "0e40e48b",
   "metadata": {},
   "outputs": [
    {
     "data": {
      "text/plain": [
       "array([[-0.406801  , -0.50512499, -1.02225586, -0.28154625, -0.40521827,\n",
       "         0.12577051,  0.55383118, -0.52734802, -0.51436915, -0.66777595,\n",
       "        -0.74457062,  0.41241246, -0.47605794],\n",
       "       [-0.41105674,  1.26662874, -0.68165068,  3.55181427, -0.94540271,\n",
       "         0.60196466, -1.29947815,  0.14683092, -0.6302741 , -0.92035152,\n",
       "        -0.30083661,  0.42854113, -1.25185755]])"
      ]
     },
     "execution_count": 35,
     "metadata": {},
     "output_type": "execute_result"
    }
   ],
   "source": [
    "X_test_tf[:2]"
   ]
  },
  {
   "cell_type": "code",
   "execution_count": 37,
   "id": "9feda1ab",
   "metadata": {},
   "outputs": [
    {
     "name": "stdout",
     "output_type": "stream",
     "text": [
      "mean of each column: [3.46988686e+00 1.14039548e+01 1.11330508e+01 7.34463277e-02\n",
      " 5.57259322e-01 6.32567232e+00 6.87997175e+01 3.76587401e+00\n",
      " 9.43785311e+00 4.07042373e+02 1.82779661e+01 3.59701808e+02\n",
      " 1.24211299e+01]\n"
     ]
    }
   ],
   "source": [
    "## printing mean of each column\n",
    "print(\"mean of each column:\",scaler.mean_)"
   ]
  },
  {
   "cell_type": "code",
   "execution_count": 38,
   "id": "f4527418",
   "metadata": {},
   "outputs": [
    {
     "name": "stdout",
     "output_type": "stream",
     "text": [
      "Stadard Deviation of each column: [8.30407703e+00 2.25765011e+01 6.92884344e+00 2.60867715e-01\n",
      " 1.16626831e-01 7.18194456e-01 2.76262572e+01 2.12302684e+00\n",
      " 8.62775916e+00 1.66286870e+02 2.25360235e+00 8.68019175e+01\n",
      " 7.10234960e+00]\n"
     ]
    }
   ],
   "source": [
    "## printing Stadard Deviation of each column\n",
    "print(\"Stadard Deviation of each column:\",scaler.scale_)"
   ]
  },
  {
   "cell_type": "markdown",
   "id": "24ad74f6",
   "metadata": {},
   "source": [
    "## MinMaxScaler "
   ]
  },
  {
   "cell_type": "markdown",
   "id": "73cd1da0",
   "metadata": {},
   "source": [
    "-  MinMaxScaler squeezes the values of the variables between 0 and 1"
   ]
  },
  {
   "cell_type": "code",
   "execution_count": 46,
   "id": "32bc3336",
   "metadata": {},
   "outputs": [],
   "source": [
    "## importing MinMaxScaler\n",
    "from sklearn.preprocessing import MinMaxScaler"
   ]
  },
  {
   "cell_type": "code",
   "execution_count": 47,
   "id": "b2a32254",
   "metadata": {},
   "outputs": [],
   "source": [
    "MMS = MinMaxScaler()"
   ]
  },
  {
   "cell_type": "code",
   "execution_count": 48,
   "id": "29f3e4f2",
   "metadata": {},
   "outputs": [
    {
     "data": {
      "text/plain": [
       "MinMaxScaler()"
      ]
     },
     "execution_count": 48,
     "metadata": {},
     "output_type": "execute_result"
    }
   ],
   "source": [
    "MMS.fit(X_train)"
   ]
  },
  {
   "cell_type": "code",
   "execution_count": 49,
   "id": "783f8d8c",
   "metadata": {},
   "outputs": [],
   "source": [
    "X_train_mms = MMS.transform(X_train)"
   ]
  },
  {
   "cell_type": "code",
   "execution_count": 50,
   "id": "c1d7ea76",
   "metadata": {},
   "outputs": [
    {
     "data": {
      "text/plain": [
       "array([[9.29781490e-04, 0.00000000e+00, 1.07048624e-01, ...,\n",
       "        4.25531915e-01, 9.96469817e-01, 2.01710817e-01],\n",
       "       [5.32556177e-04, 4.21052632e-01, 1.96004523e-01, ...,\n",
       "        5.31914894e-01, 1.00000000e+00, 4.96688742e-02],\n",
       "       [1.08669336e-03, 0.00000000e+00, 1.00000000e+00, ...,\n",
       "        7.97872340e-01, 9.82878612e-01, 4.50883002e-01],\n",
       "       ...,\n",
       "       [5.82091320e-03, 0.00000000e+00, 1.88088956e-01, ...,\n",
       "        5.10638298e-01, 9.62428766e-01, 8.00220751e-02],\n",
       "       [6.26299778e-02, 0.00000000e+00, 6.36637769e-01, ...,\n",
       "        8.08510638e-01, 2.51828131e-01, 3.99834437e-01],\n",
       "       [1.11454521e-01, 0.00000000e+00, 6.36637769e-01, ...,\n",
       "        8.08510638e-01, 9.78869333e-01, 4.05905077e-01]])"
      ]
     },
     "execution_count": 50,
     "metadata": {},
     "output_type": "execute_result"
    }
   ],
   "source": [
    "X_test_mms"
   ]
  },
  {
   "cell_type": "code",
   "execution_count": 51,
   "id": "c6bef88c",
   "metadata": {},
   "outputs": [],
   "source": [
    "X_test_mms = MMS.transform(X_test)"
   ]
  },
  {
   "cell_type": "code",
   "execution_count": 52,
   "id": "4021ed28",
   "metadata": {},
   "outputs": [
    {
     "data": {
      "text/plain": [
       "array([[9.29781490e-04, 0.00000000e+00, 1.07048624e-01, ...,\n",
       "        4.25531915e-01, 9.96469817e-01, 2.01710817e-01],\n",
       "       [5.32556177e-04, 4.21052632e-01, 1.96004523e-01, ...,\n",
       "        5.31914894e-01, 1.00000000e+00, 4.96688742e-02],\n",
       "       [1.08669336e-03, 0.00000000e+00, 1.00000000e+00, ...,\n",
       "        7.97872340e-01, 9.82878612e-01, 4.50883002e-01],\n",
       "       ...,\n",
       "       [5.82091320e-03, 0.00000000e+00, 1.88088956e-01, ...,\n",
       "        5.10638298e-01, 9.62428766e-01, 8.00220751e-02],\n",
       "       [6.26299778e-02, 0.00000000e+00, 6.36637769e-01, ...,\n",
       "        8.08510638e-01, 2.51828131e-01, 3.99834437e-01],\n",
       "       [1.11454521e-01, 0.00000000e+00, 6.36637769e-01, ...,\n",
       "        8.08510638e-01, 9.78869333e-01, 4.05905077e-01]])"
      ]
     },
     "execution_count": 52,
     "metadata": {},
     "output_type": "execute_result"
    }
   ],
   "source": [
    "X_test_mms"
   ]
  },
  {
   "cell_type": "code",
   "execution_count": 78,
   "id": "d8a2cbdd",
   "metadata": {},
   "outputs": [
    {
     "name": "stdout",
     "output_type": "stream",
     "text": [
      "Min value of each column: [9.0600e-03 0.0000e+00 1.2100e+00 0.0000e+00 3.8500e-01 3.8630e+00\n",
      " 2.9000e+00 1.1296e+00 1.0000e+00 1.8700e+02 1.2600e+01 3.2000e-01\n",
      " 1.7300e+00]\n"
     ]
    }
   ],
   "source": [
    "## printing Min value of each column\n",
    "print(\"Min value of each column:\",MMS.data_min_)"
   ]
  },
  {
   "cell_type": "code",
   "execution_count": 79,
   "id": "59a40302",
   "metadata": {},
   "outputs": [
    {
     "name": "stdout",
     "output_type": "stream",
     "text": [
      "max value of each column: [ 88.9762  95.      27.74     1.       0.871    8.78   100.      12.1265\n",
      "  24.     711.      22.     396.9     37.97  ]\n"
     ]
    }
   ],
   "source": [
    "## printing max value of each column\n",
    "print(\"max value of each column:\",MMS.data_max_)"
   ]
  },
  {
   "cell_type": "code",
   "execution_count": 56,
   "id": "6984286e",
   "metadata": {},
   "outputs": [
    {
     "data": {
      "text/plain": [
       "array([8.896714e+01, 9.500000e+01, 2.653000e+01, 1.000000e+00,\n",
       "       4.860000e-01, 4.917000e+00, 9.710000e+01, 1.099690e+01,\n",
       "       2.300000e+01, 5.240000e+02, 9.400000e+00, 3.965800e+02,\n",
       "       3.624000e+01])"
      ]
     },
     "execution_count": 56,
     "metadata": {},
     "output_type": "execute_result"
    }
   ],
   "source": [
    "MMS.data_range_"
   ]
  },
  {
   "cell_type": "markdown",
   "id": "0261fe12",
   "metadata": {},
   "source": [
    "## MaxAbs Scaler"
   ]
  },
  {
   "cell_type": "markdown",
   "id": "e1b1aeb0",
   "metadata": {},
   "source": [
    "- Maximum absolute scaling scales the data to its maximum value; that is, it divides every observation by the maximum value of the variable.The values are vary approximately within the range of -1 to 1"
   ]
  },
  {
   "cell_type": "code",
   "execution_count": 57,
   "id": "6b970e7e",
   "metadata": {},
   "outputs": [],
   "source": [
    "## importing MaxAbsScaler\n",
    "from sklearn.preprocessing import MaxAbsScaler"
   ]
  },
  {
   "cell_type": "code",
   "execution_count": 58,
   "id": "733ad8b1",
   "metadata": {},
   "outputs": [],
   "source": [
    "MAS = MaxAbsScaler()"
   ]
  },
  {
   "cell_type": "code",
   "execution_count": 59,
   "id": "a7c696f0",
   "metadata": {},
   "outputs": [
    {
     "data": {
      "text/plain": [
       "MaxAbsScaler()"
      ]
     },
     "execution_count": 59,
     "metadata": {},
     "output_type": "execute_result"
    }
   ],
   "source": [
    "MAS.fit(X_train)"
   ]
  },
  {
   "cell_type": "code",
   "execution_count": 60,
   "id": "54e74c23",
   "metadata": {},
   "outputs": [],
   "source": [
    "X_train_mas = MAS.transform(X_train)"
   ]
  },
  {
   "cell_type": "code",
   "execution_count": 61,
   "id": "192ed43e",
   "metadata": {},
   "outputs": [
    {
     "data": {
      "text/plain": [
       "array([[3.35482972e-04, 0.00000000e+00, 7.85868782e-02, ...,\n",
       "        8.50000000e-01, 9.92995717e-01, 1.37213590e-01],\n",
       "       [1.47882243e-03, 0.00000000e+00, 3.60850757e-01, ...,\n",
       "        8.09090909e-01, 9.90929705e-01, 3.17092441e-01],\n",
       "       [1.92658261e-03, 0.00000000e+00, 2.49098774e-01, ...,\n",
       "        8.13636364e-01, 1.00000000e+00, 2.68896497e-01],\n",
       "       ...,\n",
       "       [1.68696798e-04, 8.42105263e-01, 7.24585436e-02, ...,\n",
       "        7.72727273e-01, 9.84983623e-01, 1.57756123e-01],\n",
       "       [1.25431295e-01, 0.00000000e+00, 6.52487383e-01, ...,\n",
       "        9.18181818e-01, 2.76769967e-01, 6.12852252e-01],\n",
       "       [2.57102461e-03, 0.00000000e+00, 3.08579668e-01, ...,\n",
       "        9.50000000e-01, 1.78382464e-01, 2.79957861e-01]])"
      ]
     },
     "execution_count": 61,
     "metadata": {},
     "output_type": "execute_result"
    }
   ],
   "source": [
    "X_train_mas"
   ]
  },
  {
   "cell_type": "code",
   "execution_count": 62,
   "id": "a66cef93",
   "metadata": {},
   "outputs": [],
   "source": [
    "X_test_mas = MAS.transform(X_test)"
   ]
  },
  {
   "cell_type": "code",
   "execution_count": 63,
   "id": "9ff340c0",
   "metadata": {},
   "outputs": [
    {
     "data": {
      "text/plain": [
       "array([[1.03151180e-03, 0.00000000e+00, 1.45998558e-01, ...,\n",
       "        7.54545455e-01, 9.96472663e-01, 2.38082697e-01],\n",
       "       [6.34326932e-04, 4.21052632e-01, 2.31074261e-01, ...,\n",
       "        8.00000000e-01, 1.00000000e+00, 9.29681327e-02],\n",
       "       [1.18840769e-03, 0.00000000e+00, 1.00000000e+00, ...,\n",
       "        9.13636364e-01, 9.82892416e-01, 4.75902028e-01],\n",
       "       ...,\n",
       "       [5.92214547e-03, 0.00000000e+00, 2.23503965e-01, ...,\n",
       "        7.90909091e-01, 9.62459058e-01, 1.21938372e-01],\n",
       "       [6.27254255e-02, 0.00000000e+00, 6.52487383e-01, ...,\n",
       "        9.18181818e-01, 2.52431343e-01, 4.27179352e-01],\n",
       "       [1.11544997e-01, 0.00000000e+00, 6.52487383e-01, ...,\n",
       "        9.18181818e-01, 9.78886369e-01, 4.32973400e-01]])"
      ]
     },
     "execution_count": 63,
     "metadata": {},
     "output_type": "execute_result"
    }
   ],
   "source": [
    "X_test_mas"
   ]
  },
  {
   "cell_type": "code",
   "execution_count": 67,
   "id": "d8142dad",
   "metadata": {},
   "outputs": [
    {
     "name": "stdout",
     "output_type": "stream",
     "text": [
      "Max values: [ 88.9762  95.      27.74     1.       0.871    8.78   100.      12.1265\n",
      "  24.     711.      22.     396.9     37.97  ]\n"
     ]
    }
   ],
   "source": [
    "print(\"Max values:\",MAS.max_abs_)"
   ]
  },
  {
   "cell_type": "markdown",
   "id": "92f9ed26",
   "metadata": {},
   "source": [
    "## Robust Scaling "
   ]
  },
  {
   "cell_type": "markdown",
   "id": "8a3b2ca1",
   "metadata": {},
   "source": [
    "- robust scaling produces more robust estimates for the center and value range of the variable, and is recommended if the data contains outliers."
   ]
  },
  {
   "cell_type": "code",
   "execution_count": 68,
   "id": "e37a6f55",
   "metadata": {},
   "outputs": [],
   "source": [
    "from sklearn.preprocessing import RobustScaler"
   ]
  },
  {
   "cell_type": "code",
   "execution_count": 69,
   "id": "d276ace7",
   "metadata": {},
   "outputs": [],
   "source": [
    "RS = RobustScaler()"
   ]
  },
  {
   "cell_type": "code",
   "execution_count": 70,
   "id": "3b678ded",
   "metadata": {},
   "outputs": [
    {
     "data": {
      "text/plain": [
       "RobustScaler()"
      ]
     },
     "execution_count": 70,
     "metadata": {},
     "output_type": "execute_result"
    }
   ],
   "source": [
    "RS.fit(X_train)"
   ]
  },
  {
   "cell_type": "code",
   "execution_count": 71,
   "id": "4fd87b80",
   "metadata": {},
   "outputs": [],
   "source": [
    "X_train_rs = RS.transform(X_train)"
   ]
  },
  {
   "cell_type": "code",
   "execution_count": 72,
   "id": "c8239652",
   "metadata": {},
   "outputs": [
    {
     "data": {
      "text/plain": [
       "array([[-7.08452530e-02,  0.00000000e+00, -5.79028527e-01, ...,\n",
       "         2.81690141e-02,  1.29963899e-01, -6.10413885e-01],\n",
       "       [-3.90483431e-02,  0.00000000e+00,  2.46723207e-02, ...,\n",
       "        -2.25352113e-01,  8.76740588e-02,  1.19092123e-01],\n",
       "       [-2.65958818e-02,  0.00000000e+00, -2.14340786e-01, ...,\n",
       "        -1.97183099e-01,  2.73336772e-01, -7.63684913e-02],\n",
       "       ...,\n",
       "       [-7.54836698e-02,  4.00000000e+00, -5.92135698e-01, ...,\n",
       "        -4.50704225e-01, -3.40381640e-02, -5.27102804e-01],\n",
       "       [ 3.40813927e+00,  0.00000000e+00,  6.48419429e-01, ...,\n",
       "         4.50704225e-01, -1.45306859e+01,  1.31855808e+00],\n",
       "       [-8.67358939e-03,  0.00000000e+00, -8.71241326e-02, ...,\n",
       "         6.47887324e-01, -1.65446106e+01, -3.15086782e-02]])"
      ]
     },
     "execution_count": 72,
     "metadata": {},
     "output_type": "execute_result"
    }
   ],
   "source": [
    "X_train_rs"
   ]
  },
  {
   "cell_type": "code",
   "execution_count": 73,
   "id": "3da13075",
   "metadata": {},
   "outputs": [],
   "source": [
    "X_test_rs = RS.transform(X_test)"
   ]
  },
  {
   "cell_type": "code",
   "execution_count": 74,
   "id": "f59ebb39",
   "metadata": {},
   "outputs": [
    {
     "data": {
      "text/plain": [
       "array([[ -0.0514883 ,   0.        ,  -0.43484965, ...,  -0.56338028,\n",
       "          0.20113461,  -0.20133511],\n",
       "       [ -0.06253424,   2.        ,  -0.25289129, ...,  -0.28169014,\n",
       "          0.27333677,  -0.78985314],\n",
       "       [ -0.04712494,   0.        ,   1.39167309, ...,   0.42253521,\n",
       "         -0.07684373,   0.76315087],\n",
       "       ...,\n",
       "       [  0.08452296,   0.        ,  -0.2690825 , ...,  -0.33802817,\n",
       "         -0.49510057,  -0.67236315],\n",
       "       [  1.66425395,   0.        ,   0.64841943, ...,   0.45070423,\n",
       "        -15.02888087,   0.56555407],\n",
       "       [  3.02195356,   0.        ,   0.64841943, ...,   0.45070423,\n",
       "         -0.15884477,   0.58905207]])"
      ]
     },
     "execution_count": 74,
     "metadata": {},
     "output_type": "execute_result"
    }
   ],
   "source": [
    "X_test_rs"
   ]
  },
  {
   "cell_type": "code",
   "execution_count": 75,
   "id": "a3c560c3",
   "metadata": {},
   "outputs": [
    {
     "name": "stdout",
     "output_type": "stream",
     "text": [
      "Medians of each Column: [2.5651e-01 0.0000e+00 9.6900e+00 0.0000e+00 5.3800e-01 6.2275e+00\n",
      " 7.7350e+01 3.1073e+00 5.0000e+00 3.3000e+02 1.8600e+01 3.9160e+02\n",
      " 1.0925e+01]\n"
     ]
    }
   ],
   "source": [
    "## printing Medians of each column\n",
    "print(\"Medians of each Column:\",RS.center_)"
   ]
  },
  {
   "cell_type": "code",
   "execution_count": 80,
   "id": "a0be2d8e",
   "metadata": {},
   "outputs": [
    {
     "name": "stdout",
     "output_type": "stream",
     "text": [
      "IQR stored in RobustScaler: [3.1993675e+00 2.0000000e+01 1.2970000e+01 1.0000000e+00 1.8100000e-01\n",
      " 7.9225000e-01 4.7450000e+01 3.3270000e+00 2.0000000e+01 3.8700000e+02\n",
      " 3.5500000e+00 1.9390000e+01 9.3625000e+00]\n"
     ]
    }
   ],
   "source": [
    "## printing IQR values\n",
    "print(\"IQR stored in RobustScaler:\",RS.scale_)"
   ]
  },
  {
   "cell_type": "code",
   "execution_count": null,
   "id": "13640ff8",
   "metadata": {},
   "outputs": [],
   "source": []
  }
 ],
 "metadata": {
  "kernelspec": {
   "display_name": "Python 3 (ipykernel)",
   "language": "python",
   "name": "python3"
  },
  "language_info": {
   "codemirror_mode": {
    "name": "ipython",
    "version": 3
   },
   "file_extension": ".py",
   "mimetype": "text/x-python",
   "name": "python",
   "nbconvert_exporter": "python",
   "pygments_lexer": "ipython3",
   "version": "3.9.7"
  }
 },
 "nbformat": 4,
 "nbformat_minor": 5
}
